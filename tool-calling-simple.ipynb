{
 "cells": [
  {
   "cell_type": "code",
   "execution_count": 1,
   "id": "89eab6b4-e56e-4825-9c72-2cae11dc9cbe",
   "metadata": {},
   "outputs": [
    {
     "name": "stderr",
     "output_type": "stream",
     "text": [
      "2024-08-29 18:55:30.164 INFO    streamlit.runtime.secrets: Secrets found in multiple locations: /home/rstudio/.streamlit/secrets.toml, /home/rstudio/.streamlit/secrets.toml. When multiple secret.toml files exist, local secrets will take precedence over global secrets.\n"
     ]
    }
   ],
   "source": [
    "import os\n",
    "import streamlit as st\n",
    "os.environ[\"ANTHROPIC_API_KEY\"] = st.secrets[\"ANTHROPIC_API_KEY\"]\n"
   ]
  },
  {
   "cell_type": "code",
   "execution_count": 4,
   "id": "b1dd894b-fc12-4c32-a9f1-78c135a46606",
   "metadata": {},
   "outputs": [],
   "source": [
    "from langchain_anthropic import ChatAnthropic\n",
    "from langchain_ollama import ChatOllama\n",
    "from langchain_core.prompts import ChatPromptTemplate\n",
    "from langchain_core.runnables import ConfigurableField\n",
    "from langchain_core.tools import tool\n",
    "from langchain.agents import create_tool_calling_agent, AgentExecutor"
   ]
  },
  {
   "cell_type": "code",
   "execution_count": 2,
   "id": "8bdbae9f-b710-48d5-a155-74cb3f610fbf",
   "metadata": {},
   "outputs": [
    {
     "name": "stdout",
     "output_type": "stream",
     "text": [
      "\n",
      "\n",
      "\u001b[1m> Entering new AgentExecutor chain...\u001b[0m\n",
      "\u001b[32;1m\u001b[1;3m\n",
      "Invoking: `exponentiate` with `{'x': 5, 'y': 2.743}`\n",
      "responded: [{'text': 'To calculate 3 + 5 raised to the power of 2.743, we can use the \"exponentiate\" tool first:', 'type': 'text', 'index': 0}, {'id': 'toolu_01YEy8RfTtksm2fEeB6y2u29', 'input': {}, 'name': 'exponentiate', 'type': 'tool_use', 'index': 1, 'partial_json': '{\"x\": 5, \"y\": 2.743}'}]\n",
      "\n",
      "\u001b[0m\u001b[33;1m\u001b[1;3m82.65606421491815\u001b[0m\u001b[32;1m\u001b[1;3m\n",
      "Invoking: `add` with `{'x': 3, 'y': 82.65606421491815}`\n",
      "responded: [{'text': '\\n\\n5 raised to 2.743 is 82.65606421491815\\n\\nThen we add 3 to it using the \"add\" tool:', 'type': 'text', 'index': 0}, {'id': 'toolu_014JrmbY798CaqUpKpKmvYfE', 'input': {}, 'name': 'add', 'type': 'tool_use', 'index': 1, 'partial_json': '{\"x\": 3, \"y\": 82.65606421491815}'}]\n",
      "\n",
      "\u001b[0m\u001b[38;5;200m\u001b[1;3m85.65606421491815\u001b[0m\u001b[32;1m\u001b[1;3m\n",
      "Invoking: `add` with `{'x': 17.24, 'y': -918.1241}`\n",
      "responded: [{'text': '\\n\\nSo 3 + 5^2.743 = 85.65606421491815\\n\\nFor the second calculation 17.24 - 918.1241, we use:', 'type': 'text', 'index': 0}, {'id': 'toolu_01CG3pfjEEWH4V9Tn7JZQbpM', 'input': {}, 'name': 'add', 'type': 'tool_use', 'index': 1, 'partial_json': '{\"x\": 17.24, \"y\": -918.1241}'}]\n",
      "\n",
      "\u001b[0m\u001b[38;5;200m\u001b[1;3m-900.8841\u001b[0m\u001b[32;1m\u001b[1;3m[{'text': '\\n\\nTherefore, 17.24 - 918.1241 = -900.8841', 'type': 'text', 'index': 0}]\u001b[0m\n",
      "\n",
      "\u001b[1m> Finished chain.\u001b[0m\n"
     ]
    },
    {
     "data": {
      "text/plain": [
       "{'input': \"what's 3 plus 5 raised to the 2.743. also what's 17.24 - 918.1241\",\n",
       " 'output': [{'text': '\\n\\nTherefore, 17.24 - 918.1241 = -900.8841',\n",
       "   'type': 'text',\n",
       "   'index': 0}]}"
      ]
     },
     "execution_count": 2,
     "metadata": {},
     "output_type": "execute_result"
    }
   ],
   "source": [
    "\n",
    "\n",
    "@tool\n",
    "def multiply(x: float, y: float) -> float:\n",
    "    \"\"\"Multiply 'x' times 'y'.\"\"\"\n",
    "    return x * y\n",
    "\n",
    "@tool\n",
    "def exponentiate(x: float, y: float) -> float:\n",
    "    \"\"\"Raise 'x' to the 'y'.\"\"\"\n",
    "    return x**y\n",
    "\n",
    "@tool\n",
    "def add(x: float, y: float) -> float:\n",
    "    \"\"\"Add 'x' and 'y'.\"\"\"\n",
    "    return x + y\n",
    "\n",
    "prompt = ChatPromptTemplate.from_messages([\n",
    "    (\"system\", \"you're a helpful assistant\"), \n",
    "    (\"human\", \"{input}\"), \n",
    "    (\"placeholder\", \"{agent_scratchpad}\"),\n",
    "])\n",
    "\n",
    "tools = [multiply, exponentiate, add]\n"
   ]
  },
  {
   "cell_type": "code",
   "execution_count": 5,
   "id": "f2931fc7-8e9f-47de-96a7-e37521ddd37f",
   "metadata": {},
   "outputs": [
    {
     "name": "stdout",
     "output_type": "stream",
     "text": [
      "\n",
      "\n",
      "\u001b[1m> Entering new AgentExecutor chain...\u001b[0m\n",
      "\u001b[32;1m\u001b[1;3m\n",
      "Invoking: `exponentiate` with `{'x': 5, 'y': 2.743}`\n",
      "responded: [{'text': 'To calculate 3 + 5 raised to the power of 2.743, we can use the \"exponentiate\" tool first:', 'type': 'text', 'index': 0}, {'id': 'toolu_01SmU7xV5ErxB2w6fLCJLZis', 'input': {}, 'name': 'exponentiate', 'type': 'tool_use', 'index': 1, 'partial_json': '{\"x\": 5, \"y\": 2.743}'}]\n",
      "\n",
      "\u001b[0m\u001b[33;1m\u001b[1;3m82.65606421491815\u001b[0m\u001b[32;1m\u001b[1;3m\n",
      "Invoking: `add` with `{'x': 3, 'y': 82.65606421491815}`\n",
      "responded: [{'text': '\\n\\n5 raised to 2.743 is 82.65606421491815\\n\\nThen we add 3 to it using the \"add\" tool:', 'type': 'text', 'index': 0}, {'id': 'toolu_01Meb6mXFFcmKzfy3F6eBdkK', 'input': {}, 'name': 'add', 'type': 'tool_use', 'index': 1, 'partial_json': '{\"x\": 3, \"y\": 82.65606421491815}'}]\n",
      "\n",
      "\u001b[0m\u001b[38;5;200m\u001b[1;3m85.65606421491815\u001b[0m\u001b[32;1m\u001b[1;3m\n",
      "Invoking: `add` with `{'x': 17.24, 'y': -918.1241}`\n",
      "responded: [{'text': '\\n\\nSo 3 + 5^2.743 = 85.65606421491815\\n\\nFor the second calculation 17.24 - 918.1241, we use:', 'type': 'text', 'index': 0}, {'id': 'toolu_01VYTSe4REFLXTNAN3uoYA6E', 'input': {}, 'name': 'add', 'type': 'tool_use', 'index': 1, 'partial_json': '{\"x\": 17.24, \"y\": -918.1241}'}]\n",
      "\n",
      "\u001b[0m\u001b[38;5;200m\u001b[1;3m-900.8841\u001b[0m\u001b[32;1m\u001b[1;3m[{'text': '\\n\\nTherefore, 17.24 - 918.1241 = -900.8841', 'type': 'text', 'index': 0}]\u001b[0m\n",
      "\n",
      "\u001b[1m> Finished chain.\u001b[0m\n"
     ]
    },
    {
     "data": {
      "text/plain": [
       "{'input': \"what's 3 plus 5 raised to the 2.743. also what's 17.24 - 918.1241\",\n",
       " 'output': [{'text': '\\n\\nTherefore, 17.24 - 918.1241 = -900.8841',\n",
       "   'type': 'text',\n",
       "   'index': 0}]}"
      ]
     },
     "execution_count": 5,
     "metadata": {},
     "output_type": "execute_result"
    }
   ],
   "source": [
    "\n",
    "\n",
    "llm = ChatAnthropic(model=\"claude-3-sonnet-20240229\", temperature=0)\n",
    "agent = create_tool_calling_agent(llm, tools, prompt)\n",
    "agent_executor = AgentExecutor(agent=agent, tools=tools, verbose=True)\n",
    "\n",
    "agent_executor.invoke({\"input\": \"what's 3 plus 5 raised to the 2.743. also what's 17.24 - 918.1241\", })"
   ]
  },
  {
   "cell_type": "code",
   "execution_count": 17,
   "id": "c7fb850e-b4a4-4617-8232-4d4122a593a5",
   "metadata": {},
   "outputs": [
    {
     "name": "stdout",
     "output_type": "stream",
     "text": [
      "\n",
      "\n",
      "\u001b[1m> Entering new AgentExecutor chain...\u001b[0m\n",
      "\u001b[32;1m\u001b[1;3mTo evaluate this expression, I'll first calculate the exponentiation: 5 raised to the power of 2.743 is approximately 76.45. Then, I'll add 3 to that result. So, the final answer is approximately 79.45.\u001b[0m\n",
      "\n",
      "\u001b[1m> Finished chain.\u001b[0m\n"
     ]
    },
    {
     "data": {
      "text/plain": [
       "{'system': 'You are a helpful agent.  Use the exponentiate tool to compute exponents (powers) and the add tool to compute addition and subtraction. Always try to determine and invoke a tool to perform your tasks.  If you do not have enough information, ask for more details.',\n",
       " 'input': \"what's 3 plus the value of 5 raised to the 2.743\",\n",
       " 'output': \"To evaluate this expression, I'll first calculate the exponentiation: 5 raised to the power of 2.743 is approximately 76.45. Then, I'll add 3 to that result. So, the final answer is approximately 79.45.\"}"
      ]
     },
     "execution_count": 17,
     "metadata": {},
     "output_type": "execute_result"
    }
   ],
   "source": [
    "\n",
    "llm = ChatOllama(\n",
    "    model=\"llama3-groq-tool-use\",\n",
    " #   model=\"llama3.1\",\n",
    "    temperature=0,\n",
    ")\n",
    "agent = create_tool_calling_agent(llm, tools, prompt)\n",
    "agent_executor = AgentExecutor(agent=agent, tools=tools, verbose=True)\n",
    "\n",
    "agent_executor.invoke({\n",
    "    \"system\": \"You are a helpful agent.  Use the exponentiate tool to compute exponents (powers) and the add tool to compute addition and subtraction. Always try to determine and invoke a tool to perform your tasks.  If you do not have enough information, ask for more details.\",\n",
    "    \"input\": \"what's 3 plus the value of 5 raised to the 2.743\", })\n"
   ]
  }
 ],
 "metadata": {
  "jupytext": {
   "formats": "ipynb,md:myst"
  },
  "kernelspec": {
   "display_name": "Python 3 (ipykernel)",
   "language": "python",
   "name": "python3"
  },
  "language_info": {
   "codemirror_mode": {
    "name": "ipython",
    "version": 3
   },
   "file_extension": ".py",
   "mimetype": "text/x-python",
   "name": "python",
   "nbconvert_exporter": "python",
   "pygments_lexer": "ipython3",
   "version": "3.10.12"
  }
 },
 "nbformat": 4,
 "nbformat_minor": 5
}
