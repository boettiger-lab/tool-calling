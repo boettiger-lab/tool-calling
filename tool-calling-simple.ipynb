{
 "cells": [
  {
   "cell_type": "code",
   "execution_count": 1,
   "id": "89eab6b4-e56e-4825-9c72-2cae11dc9cbe",
   "metadata": {},
   "outputs": [],
   "source": [
    "import os\n",
    "import streamlit as st\n",
    "os.environ[\"ANTHROPIC_API_KEY\"] = st.secrets[\"ANTHROPIC_API_KEY\"]\n",
    "os.environ[\"OPENAI_API_KEY\"] = st.secrets[\"OPENAI_API_KEY\"]"
   ]
  },
  {
   "cell_type": "code",
   "execution_count": 2,
   "id": "b1dd894b-fc12-4c32-a9f1-78c135a46606",
   "metadata": {},
   "outputs": [],
   "source": [
    "from langchain_anthropic import ChatAnthropic\n",
    "from langchain_ollama import ChatOllama\n",
    "from langchain_openai import ChatOpenAI\n",
    "from langchain_core.prompts import ChatPromptTemplate\n",
    "from langchain_core.runnables import ConfigurableField\n",
    "from langchain_core.tools import tool\n",
    "from langchain.agents import create_tool_calling_agent, AgentExecutor"
   ]
  },
  {
   "cell_type": "code",
   "execution_count": 3,
   "id": "8bdbae9f-b710-48d5-a155-74cb3f610fbf",
   "metadata": {},
   "outputs": [],
   "source": [
    "# Docstring is required, make it good!\n",
    "\n",
    "@tool\n",
    "def multiply(x: float, y: float) -> float:\n",
    "    \"\"\"Multiply 'x' times 'y'.\"\"\"\n",
    "    return x * y\n",
    "\n",
    "@tool\n",
    "def exponentiate(x: float, y: float) -> float:\n",
    "    \"\"\"Raise 'x' to the 'y'.\"\"\"\n",
    "    return x**y\n",
    "\n",
    "@tool\n",
    "def add(x: float, y: float) -> float:\n",
    "    \"\"\"Add 'x' and 'y'.\"\"\"\n",
    "    return x + y\n",
    "\n",
    "prompt = ChatPromptTemplate.from_messages([\n",
    "    (\"system\", \"you're a helpful assistant\"), \n",
    "    (\"human\", \"{input}\"), \n",
    "    (\"placeholder\", \"{agent_scratchpad}\"),\n",
    "])\n",
    "\n",
    "tools = [multiply, exponentiate, add]"
   ]
  },
  {
   "cell_type": "code",
   "execution_count": 4,
   "id": "f2931fc7-8e9f-47de-96a7-e37521ddd37f",
   "metadata": {},
   "outputs": [
    {
     "name": "stdout",
     "output_type": "stream",
     "text": [
      "\n",
      "\n",
      "\u001b[1m> Entering new AgentExecutor chain...\u001b[0m\n",
      "\u001b[32;1m\u001b[1;3m\n",
      "Invoking: `exponentiate` with `{'x': 5, 'y': 2}`\n",
      "responded: [{'text': 'To calculate 3 + 5^2, we can use the \"exponentiate\" tool first:', 'type': 'text', 'index': 0}, {'id': 'toolu_01WyjnKsUfw9kyf4Wwq3WT6V', 'input': {}, 'name': 'exponentiate', 'type': 'tool_use', 'index': 1, 'partial_json': '{\"x\": 5, \"y\": 2}'}]\n",
      "\n",
      "\u001b[0m\u001b[33;1m\u001b[1;3m25.0\u001b[0m\u001b[32;1m\u001b[1;3m\n",
      "Invoking: `add` with `{'x': 3, 'y': 25}`\n",
      "responded: [{'text': '\\n\\n5 raised to the power of 2 is 25.\\n\\nThen we can use the \"add\" tool:', 'type': 'text', 'index': 0}, {'id': 'toolu_01PqBYDVeNk5pQbDpH7vdkPi', 'input': {}, 'name': 'add', 'type': 'tool_use', 'index': 1, 'partial_json': '{\"x\": 3, \"y\": 25}'}]\n",
      "\n",
      "\u001b[0m\u001b[38;5;200m\u001b[1;3m28.0\u001b[0m\u001b[32;1m\u001b[1;3m\n",
      "Invoking: `add` with `{'x': 17.24, 'y': -918.1241}`\n",
      "responded: [{'text': '\\n\\nSo 3 + 5^2 = 28\\n\\nFor the second calculation 17.24 - 918.1241, we can use:', 'type': 'text', 'index': 0}, {'id': 'toolu_01GcZAU6ece9y6V2QTzU3QCF', 'input': {}, 'name': 'add', 'type': 'tool_use', 'index': 1, 'partial_json': '{\"x\": 17.24, \"y\": -918.1241}'}]\n",
      "\n",
      "\u001b[0m\u001b[38;5;200m\u001b[1;3m-900.8841\u001b[0m\u001b[32;1m\u001b[1;3m[{'text': '\\n\\nTherefore, 17.24 - 918.1241 = -900.8841', 'type': 'text', 'index': 0}]\u001b[0m\n",
      "\n",
      "\u001b[1m> Finished chain.\u001b[0m\n"
     ]
    },
    {
     "data": {
      "text/plain": [
       "{'input': \"what's 3 plus 5 raised to the power of 2. also what's 17.24 - 918.1241\",\n",
       " 'output': [{'text': '\\n\\nTherefore, 17.24 - 918.1241 = -900.8841',\n",
       "   'type': 'text',\n",
       "   'index': 0}]}"
      ]
     },
     "execution_count": 4,
     "metadata": {},
     "output_type": "execute_result"
    }
   ],
   "source": [
    "llm = ChatAnthropic(model=\"claude-3-sonnet-20240229\", temperature=0)\n",
    "\n",
    "agent = create_tool_calling_agent(llm, tools, prompt)\n",
    "agent_executor = AgentExecutor(agent=agent, tools=tools, verbose=True)\n",
    "agent_executor.invoke({\"input\": \"what's 3 plus 5 raised to the power of 2. also what's 17.24 - 918.1241\", })"
   ]
  },
  {
   "cell_type": "code",
   "execution_count": 7,
   "id": "e997c37a-cabf-40b1-80bd-19c5af90f71c",
   "metadata": {},
   "outputs": [
    {
     "name": "stdout",
     "output_type": "stream",
     "text": [
      "\n",
      "\n",
      "\u001b[1m> Entering new AgentExecutor chain...\u001b[0m\n",
      "\u001b[32;1m\u001b[1;3m\n",
      "Invoking: `exponentiate` with `{'x': 5, 'y': 2}`\n",
      "responded: To solve the first part of your question, we need to first calculate 5 raised to the power of 2 and then add 3 to the result. For the second part, we simply subtract 918.1241 from 17.24. Let me do the calculations.\n",
      "\n",
      "\u001b[0m\u001b[33;1m\u001b[1;3m25.0\u001b[0m\u001b[32;1m\u001b[1;3m\n",
      "Invoking: `add` with `{'x': 3, 'y': 25}`\n",
      "\n",
      "\n",
      "\u001b[0m\u001b[38;5;200m\u001b[1;3m28.0\u001b[0m\u001b[32;1m\u001b[1;3m\n",
      "Invoking: `add` with `{'x': 17.24, 'y': -918.1241}`\n",
      "responded: The result of 3 plus the quantity 5 raised to the power of 2 is 28.\n",
      "\n",
      "Now, let's calculate 17.24 - 918.1241.\n",
      "\n",
      "\u001b[0m\u001b[38;5;200m\u001b[1;3m-900.8841\u001b[0m\u001b[32;1m\u001b[1;3mThe result of 17.24 - 918.1241 is -900.8841.\u001b[0m\n",
      "\n",
      "\u001b[1m> Finished chain.\u001b[0m\n"
     ]
    },
    {
     "data": {
      "text/plain": [
       "{'input': \"what's 3 plus the quantity 5 raised to the power of 2. also what's 17.24 - 918.1241\",\n",
       " 'output': 'The result of 17.24 - 918.1241 is -900.8841.'}"
      ]
     },
     "execution_count": 7,
     "metadata": {},
     "output_type": "execute_result"
    }
   ],
   "source": [
    "llm = ChatOpenAI(model = \"gpt-4\", temperature=0)\n",
    "agent = create_tool_calling_agent(llm, tools, prompt)\n",
    "agent_executor = AgentExecutor(agent=agent, tools=tools, verbose=True)\n",
    "agent_executor.invoke({\"input\": \"what's 3 plus the quantity 5 raised to the power of 2. also what's 17.24 - 918.1241\", })"
   ]
  },
  {
   "cell_type": "code",
   "execution_count": 13,
   "id": "61f90e49-f552-4993-b219-db843a9f975d",
   "metadata": {},
   "outputs": [
    {
     "name": "stdout",
     "output_type": "stream",
     "text": [
      "\n",
      "\n",
      "\u001b[1m> Entering new AgentExecutor chain...\u001b[0m\n",
      "\u001b[32;1m\u001b[1;3m\n",
      "Invoking: `add` with `{'x': 3, 'y': 5}`\n",
      "\n",
      "\n",
      "\u001b[0m\u001b[38;5;200m\u001b[1;3m8.0\u001b[0m\u001b[32;1m\u001b[1;3m\n",
      "Invoking: `exponentiate` with `{'x': 5, 'y': 2}`\n",
      "\n",
      "\n",
      "\u001b[0m\u001b[33;1m\u001b[1;3m25.0\u001b[0m\u001b[32;1m\u001b[1;3mThe result of \\(3 + 5\\) is \\(8\\), and \\(5\\) raised to the power of \\(2\\) is \\(25\\).\u001b[0m\n",
      "\n",
      "\u001b[1m> Finished chain.\u001b[0m\n"
     ]
    },
    {
     "data": {
      "text/plain": [
       "{'input': \"what's 3 plus 5 raised to the power of 2\",\n",
       " 'output': 'The result of \\\\(3 + 5\\\\) is \\\\(8\\\\), and \\\\(5\\\\) raised to the power of \\\\(2\\\\) is \\\\(25\\\\).'}"
      ]
     },
     "execution_count": 13,
     "metadata": {},
     "output_type": "execute_result"
    }
   ],
   "source": [
    "llm = ChatOpenAI(model = \"gpt-4o-mini\", temperature=0)\n",
    "agent = create_tool_calling_agent(llm, tools, prompt)\n",
    "agent_executor = AgentExecutor(agent=agent, tools=tools, verbose=True)\n",
    "agent_executor.invoke({\"input\": \"what's 3 plus 5 raised to the power of 2\", })"
   ]
  },
  {
   "cell_type": "code",
   "execution_count": 14,
   "id": "c7fb850e-b4a4-4617-8232-4d4122a593a5",
   "metadata": {},
   "outputs": [
    {
     "name": "stdout",
     "output_type": "stream",
     "text": [
      "\n",
      "\n",
      "\u001b[1m> Entering new AgentExecutor chain...\u001b[0m\n",
      "\u001b[32;1m\u001b[1;3m\n",
      "Invoking: `exponentiate` with `{'x': 5, 'y': 2.743}`\n",
      "\n",
      "\n",
      "\u001b[0m\u001b[33;1m\u001b[1;3m82.65606421491815\u001b[0m\u001b[32;1m\u001b[1;3m\n",
      "Invoking: `add` with `{'x': 3, 'y': 82.65606421491815}`\n",
      "\n",
      "\n",
      "\u001b[0m\u001b[38;5;200m\u001b[1;3m85.65606421491815\u001b[0m\u001b[32;1m\u001b[1;3m\n",
      "Invoking: `add` with `{'x': -918.1241, 'y': 85.65606421491815}`\n",
      "\n",
      "\n",
      "\u001b[0m\u001b[38;5;200m\u001b[1;3m-832.4680357850818\u001b[0m\u001b[32;1m\u001b[1;3mThe final result is approximately -832.47.\n",
      " Note that the provided function is in Python.\u001b[0m\n",
      "\n",
      "\u001b[1m> Finished chain.\u001b[0m\n"
     ]
    },
    {
     "data": {
      "text/plain": [
       "{'system': 'You are a helpful agent.  Use the exponentiate tool to compute exponents (powers) and the add tool to compute addition and subtraction. Always try to determine and invoke a tool to perform your tasks.  If you do not have enough information, ask for more details.',\n",
       " 'input': \"what's 3 plus the value of 5 raised to the 2.743. Then substract 918.1241\",\n",
       " 'output': 'The final result is approximately -832.47.\\n Note that the provided function is in Python.'}"
      ]
     },
     "execution_count": 14,
     "metadata": {},
     "output_type": "execute_result"
    }
   ],
   "source": [
    "llm = ChatOllama(\n",
    "    model=\"llama3-groq-tool-use:70b\",\n",
    "   # model=\"llama3.1\",\n",
    "    temperature=0,\n",
    ")\n",
    "agent = create_tool_calling_agent(llm, tools, prompt)\n",
    "agent_executor = AgentExecutor(agent=agent, tools=tools, verbose=True)\n",
    "\n",
    "agent_executor.invoke({\n",
    "    \"system\": \"You are a helpful agent.  Use the exponentiate tool to compute exponents (powers) and the add tool to compute addition and subtraction. Always try to determine and invoke a tool to perform your tasks.  If you do not have enough information, ask for more details.\",\n",
    "    \"input\": \"what's 3 plus the value of 5 raised to the 2.743. Then substract 918.1241\", })"
   ]
  }
 ],
 "metadata": {
  "jupytext": {
   "formats": "ipynb,md:myst"
  },
  "kernelspec": {
   "display_name": "Python 3 (ipykernel)",
   "language": "python",
   "name": "python3"
  },
  "language_info": {
   "codemirror_mode": {
    "name": "ipython",
    "version": 3
   },
   "file_extension": ".py",
   "mimetype": "text/x-python",
   "name": "python",
   "nbconvert_exporter": "python",
   "pygments_lexer": "ipython3",
   "version": "3.10.12"
  }
 },
 "nbformat": 4,
 "nbformat_minor": 5
}
