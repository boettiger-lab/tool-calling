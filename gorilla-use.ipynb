{
 "cells": [
  {
   "cell_type": "code",
   "execution_count": 1,
   "id": "ebd5779e-593f-41f0-bc90-03d3beaa0fd5",
   "metadata": {},
   "outputs": [
    {
     "data": {
      "text/plain": [
       "AIMessage(content=\"I'm sorry, but as an AI, I don't have the capability to generate random numbers. However, you can use programming languages like Python to generate random numbers from a normal distribution. For example, in Python, you can use the `numpy` library's `random.normal` function.\", additional_kwargs={'refusal': None}, response_metadata={'token_usage': {'completion_tokens': 64, 'prompt_tokens': 84, 'total_tokens': 148, 'completion_tokens_details': None, 'prompt_tokens_details': None}, 'model_name': 'gorilla-llm/gorilla-openfunctions-v2', 'system_fingerprint': None, 'finish_reason': 'stop', 'logprobs': None}, id='run-233972e1-7d0f-4a99-a06e-7f68bfc11af5-0', usage_metadata={'input_tokens': 84, 'output_tokens': 64, 'total_tokens': 148})"
      ]
     },
     "execution_count": 1,
     "metadata": {},
     "output_type": "execute_result"
    }
   ],
   "source": [
    "import streamlit as st\n",
    "import os\n",
    "\n",
    "os.environ[\"OPENAI_API_KEY\"] = st.secrets['LITELLM_KEY']\n",
    "\n",
    "from langchain_openai import ChatOpenAI\n",
    "from langchain_core.tools import tool\n",
    "import numpy as np\n",
    "\n",
    "@tool\n",
    "def rnorm(mean: float = 0, std_dev: float = 1, num_samples: int = 1) -> np.ndarray:\n",
    "    \"\"\"\n",
    "    Generate random numbers from a normal distribution.\n",
    "    \"\"\"\n",
    "    return np.random.normal(mean, std_dev, num_samples)\n",
    "\n",
    "gorilla = ChatOpenAI(model = \"gorilla\", temperature=0, base_url=\"https://llm.nrp-nautilus.io/\")\n",
    "\n",
    "prompt = \"Give me five numbers from a random normal distribution of mean 5 and sd 1.\"\n",
    "gorilla.bind_tools([rnorm]).invoke(prompt)"
   ]
  },
  {
   "cell_type": "code",
   "execution_count": 2,
   "id": "2e81608f-4bf6-498e-a0ec-56d9a5d42d95",
   "metadata": {},
   "outputs": [
    {
     "data": {
      "text/plain": [
       "AIMessage(content='', additional_kwargs={'tool_calls': [{'id': 'call_XoIDVd2UQsqzPUObBImN5xIK', 'function': {'arguments': '{\\n  \"mean\": 5,\\n  \"std_dev\": 1,\\n  \"num_samples\": 5\\n}', 'name': 'rnorm'}, 'type': 'function'}], 'refusal': None}, response_metadata={'token_usage': {'completion_tokens': 31, 'prompt_tokens': 93, 'total_tokens': 124, 'completion_tokens_details': {'accepted_prediction_tokens': 0, 'audio_tokens': 0, 'reasoning_tokens': 0, 'rejected_prediction_tokens': 0}, 'prompt_tokens_details': {'audio_tokens': 0, 'cached_tokens': 0}}, 'model_name': 'gpt-4-0613', 'system_fingerprint': None, 'finish_reason': 'tool_calls', 'logprobs': None}, id='run-b9542c7e-b143-45bf-becb-a59afd5a08a1-0', tool_calls=[{'name': 'rnorm', 'args': {'mean': 5, 'std_dev': 1, 'num_samples': 5}, 'id': 'call_XoIDVd2UQsqzPUObBImN5xIK', 'type': 'tool_call'}], usage_metadata={'input_tokens': 93, 'output_tokens': 31, 'total_tokens': 124})"
      ]
     },
     "execution_count": 2,
     "metadata": {},
     "output_type": "execute_result"
    }
   ],
   "source": [
    "## GPT-4\n",
    "os.environ[\"OPENAI_API_KEY\"] = st.secrets['OPENAI_API_KEY'] # for gpt\n",
    "gpt4 = ChatOpenAI(model=\"gpt-4\", temperature=0)\n",
    "gpt4.bind_tools([rnorm]).invoke(prompt)"
   ]
  }
 ],
 "metadata": {
  "kernelspec": {
   "display_name": "Python 3 (ipykernel)",
   "language": "python",
   "name": "python3"
  },
  "language_info": {
   "codemirror_mode": {
    "name": "ipython",
    "version": 3
   },
   "file_extension": ".py",
   "mimetype": "text/x-python",
   "name": "python",
   "nbconvert_exporter": "python",
   "pygments_lexer": "ipython3",
   "version": "3.12.7"
  }
 },
 "nbformat": 4,
 "nbformat_minor": 5
}
